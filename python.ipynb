{
 "cells": [
  {
   "cell_type": "markdown",
   "id": "95805fcd",
   "metadata": {},
   "source": [
    "### Q1: Take from user x number and prints the factorial of number X"
   ]
  },
  {
   "cell_type": "code",
   "execution_count": 1,
   "id": "d5b314af",
   "metadata": {},
   "outputs": [
    {
     "name": "stdout",
     "output_type": "stream",
     "text": [
      "enter number you want to get factoria -5\n",
      "it is only valid when x is a natural number enter valid one 5\n",
      "the factorial =  120\n"
     ]
    }
   ],
   "source": [
    "def fact(n):\n",
    "    if (n>0):\n",
    "        return fact(n-1)*n\n",
    "    elif (n==0):\n",
    "        return 1\n",
    "    else:\n",
    "        n = int(input(\"it is only valid when x is a natural number enter valid one \"))\n",
    "        return fact(n-1)*n \n",
    "        \n",
    "x = int(input(\"enter number you want to get factoria \"))\n",
    "print(\"the factorial = \" , fact(x))"
   ]
  },
  {
   "cell_type": "markdown",
   "id": "d7922076",
   "metadata": {},
   "source": [
    "### Q2: Write a Program to Count the Number of Zeros in A Number\n"
   ]
  },
  {
   "cell_type": "code",
   "execution_count": 2,
   "id": "a3aa48a9",
   "metadata": {},
   "outputs": [
    {
     "name": "stdout",
     "output_type": "stream",
     "text": [
      "your number10120022210\n",
      "zeros in 10120022210 = 4\n"
     ]
    }
   ],
   "source": [
    "x = input(\"your number\")\n",
    "print(f\"zeros in {x} = {x.count('0')}\")"
   ]
  },
  {
   "cell_type": "code",
   "execution_count": 3,
   "id": "60ed1991",
   "metadata": {},
   "outputs": [
    {
     "name": "stdout",
     "output_type": "stream",
     "text": [
      "your number10120022210\n",
      "zeros equal in 10120022210 = 4\n"
     ]
    }
   ],
   "source": [
    "x = input(\"your number\")\n",
    "count = 0\n",
    "for i in x:\n",
    "    if (i==\"0\"):\n",
    "        count += 1\n",
    "print(f\"zeros equal in {x} = {count}\")"
   ]
  },
  {
   "cell_type": "markdown",
   "id": "a484f1cd",
   "metadata": {},
   "source": [
    "### Q3: Given a list of strings, create two lists, the first one has half of each string, and the other list contains the other half of the strings"
   ]
  },
  {
   "cell_type": "code",
   "execution_count": 4,
   "id": "454e8409",
   "metadata": {},
   "outputs": [
    {
     "name": "stdout",
     "output_type": "stream",
     "text": [
      "enter list of string seprated by space python zigzag\n",
      "frist list = ['pyt', 'zig'] and second one = ['hon', 'zag']\n"
     ]
    }
   ],
   "source": [
    "list = input(\"enter list of string seprated by space \").split(\" \")\n",
    "lst1 ,lst2 = [],[]\n",
    "\n",
    "for i in list:\n",
    "    lst1.append(i[:len(i)//2])\n",
    "    lst2.append(i[len(i)//2:])\n",
    "print(f\"frist list = {lst1} and second one = {lst2}\")"
   ]
  },
  {
   "cell_type": "markdown",
   "id": "58b0f95d",
   "metadata": {},
   "source": [
    "### Q4: Given two numbers A and B. Print all lucky numbers between A and B inclusive"
   ]
  },
  {
   "cell_type": "code",
   "execution_count": 5,
   "id": "c1f5686f",
   "metadata": {},
   "outputs": [
    {
     "name": "stdout",
     "output_type": "stream",
     "text": [
      "enter the smallest number 4\n",
      "enter the largest  number 20\n",
      "[4, 7]\n"
     ]
    }
   ],
   "source": [
    "def lucky_num(num1,num2):\n",
    "    count4 =0\n",
    "    count7=0\n",
    "    count = 0\n",
    "    x = []\n",
    "    for i in range(num1,num2):\n",
    "        count4 = str(i).count('4')\n",
    "        count7 = str(i).count('7')\n",
    "        count = count4 + count7\n",
    "        if (len(str(i)) == count ):\n",
    "            x.append(i)\n",
    "    return(x)\n",
    "    if not x:\n",
    "        return(-1)\n",
    "    \n",
    "num1 = int(input(\"enter the smallest number \"))\n",
    "num2 = int(input(\"enter the largest  number \"))\n",
    "if num1>num2:\n",
    "    num1 = int(input(\"please enter the smallest number here \"))\n",
    "    num2 = int(input(\"please enter the largest number here \"))\n",
    "print(lucky_num(num1,num2))\n",
    "\n"
   ]
  },
  {
   "cell_type": "markdown",
   "id": "452e9cd1",
   "metadata": {},
   "source": [
    "### Q5: Given a number N and an array A of N digits (not separated by space). Print the summation of these digits.\n"
   ]
  },
  {
   "cell_type": "code",
   "execution_count": 6,
   "id": "77eb6195",
   "metadata": {},
   "outputs": [
    {
     "name": "stdout",
     "output_type": "stream",
     "text": [
      "enter number of digit 5\n",
      "enter array A of 5 digits (without space): 13305\n",
      "12\n"
     ]
    }
   ],
   "source": [
    "N = int(input(\"enter number of digit \"))\n",
    "A = input(f\"enter array A of {N} digits (without space): \")\n",
    "while True:\n",
    "    if len(A)!=N:\n",
    "        A = input(f\"please enter array A of {N} digits (without space): \")\n",
    "    else:\n",
    "        break\n",
    "sum1 = 0\n",
    "for i in A:\n",
    "    sum1 += int(i)\n",
    "print(sum1)"
   ]
  },
  {
   "cell_type": "markdown",
   "id": "65a6e62b",
   "metadata": {},
   "source": [
    "### Q6: Write a program to find the second largest and second smallest number in a list. [ Do not use any built-in functions]\n"
   ]
  },
  {
   "cell_type": "code",
   "execution_count": 17,
   "id": "2c09c171",
   "metadata": {},
   "outputs": [
    {
     "name": "stdout",
     "output_type": "stream",
     "text": [
      "the second smallest num is  2\n",
      "the second largest num is  9\n"
     ]
    }
   ],
   "source": [
    "lst = [5, 2, 1, 7, 9, 11, 3]\n",
    "# lst = input(\"Enter the elements separated by space: \").split()\n",
    "# lst = list(map(int, lst))\n",
    "max1 = lst[0]\n",
    "min1 = lst[0]\n",
    "i = 0\n",
    "for i in lst:\n",
    "    if i < min1:\n",
    "        min1 = i\n",
    "for i in lst:\n",
    "    if i > max1:\n",
    "        max1 = i\n",
    "# print(max1 , min1)\n",
    "scmax = lst[0]\n",
    "scmin = lst[0]\n",
    "for i in lst:\n",
    "    if ( i < scmin and i > min1 ):\n",
    "        scmin = i\n",
    "print (\"the second smallest num is \" ,scmin)\n",
    "for i in lst:\n",
    "    if (i > scmax and i < max1 ):\n",
    "        scmax = i\n",
    "print (\"the second largest num is \" ,scmax)"
   ]
  },
  {
   "cell_type": "markdown",
   "id": "31e70a76",
   "metadata": {},
   "source": [
    "### Q7: Write a Python function that takes a list and returns a new list with unique elements of the first list. Do not use built-in functions"
   ]
  },
  {
   "cell_type": "code",
   "execution_count": 9,
   "id": "21838323",
   "metadata": {},
   "outputs": [
    {
     "name": "stdout",
     "output_type": "stream",
     "text": [
      "enter list of string seprated by space 5 7 7 8 8 8 10\n",
      "['5', '7', '8', '10']\n"
     ]
    }
   ],
   "source": [
    "lst = input(\"enter list of string separated by space \").split(\" \")\n",
    "for i in lst:\n",
    "    count1 = lst.count(i)\n",
    "    if count1 > 1:\n",
    "        lst.remove(i)\n",
    "print(lst)"
   ]
  },
  {
   "cell_type": "markdown",
   "id": "e50c28b9",
   "metadata": {},
   "source": [
    "### Q8: Describe what you know about OOP in a short paragraph"
   ]
  },
  {
   "cell_type": "markdown",
   "id": "ff39988d",
   "metadata": {},
   "source": [
    "oop is a code style,it allow to organize the code amd make it readable  and reusable ,every thing is object which are instances of classes, OOP provides a way to structure and design software by modeling real-world using classes, which encapsulate data (attributes) and behavior (methods)"
   ]
  },
  {
   "cell_type": "markdown",
   "id": "941efd5d",
   "metadata": {},
   "source": [
    "### Q9: Write a program to calculate the area of a parallelogram given two of its sides and the angle between them. Using class & object. Use OOP to build this program\n"
   ]
  },
  {
   "cell_type": "code",
   "execution_count": 10,
   "id": "24c72f33",
   "metadata": {},
   "outputs": [
    {
     "name": "stdout",
     "output_type": "stream",
     "text": [
      "enter side 1 5\n",
      "enter side 2 5\n",
      "enter the angle between them 30\n",
      "Area = 12.50 \n"
     ]
    }
   ],
   "source": [
    "import math\n",
    "\n",
    "class Parallelogram:\n",
    "    def __init__(self, side1, side2, angle):\n",
    "        self.side1 = side1\n",
    "        self.side2 = side2\n",
    "        self.angle = angle\n",
    "    \n",
    "    def area(self):\n",
    "        return self.side1 * self.side2 * math.sin(math.radians(self.angle))\n",
    "\n",
    "side1 = float(input(\"enter side 1 \"))\n",
    "side2 = float(input(\"enter side 2 \"))\n",
    "angle = float(input(\"enter the angle between them \"))\n",
    "\n",
    "parallelogram = Parallelogram(side1, side2, angle)\n",
    "print(f\"Area = {parallelogram.area():0.2f} \")"
   ]
  },
  {
   "cell_type": "markdown",
   "id": "2ed36ee7",
   "metadata": {},
   "source": [
    "### Q10: Write a Python class named Circle constructed from a radius and two methods that will compute the area and the perimeter of a circle."
   ]
  },
  {
   "cell_type": "code",
   "execution_count": 11,
   "id": "393e5b18",
   "metadata": {},
   "outputs": [],
   "source": [
    "import math \n",
    "\n",
    "class Circle:\n",
    "    def __init__(self,radius):\n",
    "        self.radius = radius\n",
    "    \n",
    "    def area(self):\n",
    "        return math.pi * math.pow(self.radius,2)\n",
    "    \n",
    "    def perimeter(self):\n",
    "        return math.pi * 2 * self.radius\n",
    "    "
   ]
  },
  {
   "cell_type": "code",
   "execution_count": null,
   "id": "9fe60662",
   "metadata": {},
   "outputs": [],
   "source": []
  }
 ],
 "metadata": {
  "kernelspec": {
   "display_name": "Python 3 (ipykernel)",
   "language": "python",
   "name": "python3"
  },
  "language_info": {
   "codemirror_mode": {
    "name": "ipython",
    "version": 3
   },
   "file_extension": ".py",
   "mimetype": "text/x-python",
   "name": "python",
   "nbconvert_exporter": "python",
   "pygments_lexer": "ipython3",
   "version": "3.11.3"
  }
 },
 "nbformat": 4,
 "nbformat_minor": 5
}
